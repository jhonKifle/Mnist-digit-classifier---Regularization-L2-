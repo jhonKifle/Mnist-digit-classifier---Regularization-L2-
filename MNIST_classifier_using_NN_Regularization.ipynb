{
  "nbformat": 4,
  "nbformat_minor": 0,
  "metadata": {
    "colab": {
      "provenance": [],
      "authorship_tag": "ABX9TyO8AQkZtqZsKf9WceS5Db1M",
      "include_colab_link": true
    },
    "kernelspec": {
      "name": "python3",
      "display_name": "Python 3"
    },
    "language_info": {
      "name": "python"
    }
  },
  "cells": [
    {
      "cell_type": "markdown",
      "metadata": {
        "id": "view-in-github",
        "colab_type": "text"
      },
      "source": [
        "<a href=\"https://colab.research.google.com/github/jhonKifle/Mnist-digit-classifier---Regularization-L2-/blob/main/MNIST_classifier_using_NN_Regularization.ipynb\" target=\"_parent\"><img src=\"https://colab.research.google.com/assets/colab-badge.svg\" alt=\"Open In Colab\"/></a>"
      ]
    },
    {
      "cell_type": "markdown",
      "source": [
        "# **MNIST classification using Regularization (L2)**\n",
        "\n",
        "In this demo, the previous classification is used to show for enhancing Overfitting of the model. Overfitting is a common problem in machine learning where a model learns the training data too well, capturing not only the underlying patterns but also noise and irrelevant details. As a result, the model performs well on the training data but fails to generalize to new, unseen data.\n",
        "\n",
        "L2 regularization helps prevent overfitting by adding a penalty term to the loss function that penalizes large weights.\n",
        "\n",
        "When L2 regularization is applied, the gradient descent algorithm updates the weights not only based on the original loss but also by including a term that shrinks the weights. The parameter update rule with L2 regularization becomes:\n",
        "\n",
        "The weight update for NN with no regularizations was as follows:\n",
        "\n",
        " $$\n",
        " w′=w−η\\frac{∂C_0}{∂w} \\tag{1}\n",
        " $$\n",
        " $$\n",
        "b'= b−η\\frac{∂C0}{∂b} \\tag{2}\n",
        "$$\n",
        "Introducing the regularizations (L2), the learning rule for the weights becomes:\n",
        " $$\n",
        " w′=w(1−\\frac{ηλ}{n})−η\\frac{∂C_0}{∂w} \\tag{3}\n",
        " $$\n",
        "Biases are typically not regularized, but weights are, as biases control the overall position of the function, while weights control its shape and complexity."
      ],
      "metadata": {
        "id": "EdvObS08Z8F1"
      }
    },
    {
      "cell_type": "code",
      "source": [
        "import numpy as np\n",
        "import random\n",
        "import pandas as pd\n",
        "!pip install scienceplots\n",
        "import matplotlib.pyplot as plt\n",
        "import scienceplots"
      ],
      "metadata": {
        "id": "Y5Q6jG6J1zLB",
        "colab": {
          "base_uri": "https://localhost:8080/"
        },
        "outputId": "77fcd972-4804-4b45-8aff-89a3418dc1a3"
      },
      "execution_count": null,
      "outputs": [
        {
          "output_type": "stream",
          "name": "stdout",
          "text": [
            "Collecting scienceplots\n",
            "  Downloading SciencePlots-2.1.1-py3-none-any.whl.metadata (11 kB)\n",
            "Requirement already satisfied: matplotlib in /usr/local/lib/python3.10/dist-packages (from scienceplots) (3.7.1)\n",
            "Requirement already satisfied: contourpy>=1.0.1 in /usr/local/lib/python3.10/dist-packages (from matplotlib->scienceplots) (1.3.0)\n",
            "Requirement already satisfied: cycler>=0.10 in /usr/local/lib/python3.10/dist-packages (from matplotlib->scienceplots) (0.12.1)\n",
            "Requirement already satisfied: fonttools>=4.22.0 in /usr/local/lib/python3.10/dist-packages (from matplotlib->scienceplots) (4.54.1)\n",
            "Requirement already satisfied: kiwisolver>=1.0.1 in /usr/local/lib/python3.10/dist-packages (from matplotlib->scienceplots) (1.4.7)\n",
            "Requirement already satisfied: numpy>=1.20 in /usr/local/lib/python3.10/dist-packages (from matplotlib->scienceplots) (1.26.4)\n",
            "Requirement already satisfied: packaging>=20.0 in /usr/local/lib/python3.10/dist-packages (from matplotlib->scienceplots) (24.1)\n",
            "Requirement already satisfied: pillow>=6.2.0 in /usr/local/lib/python3.10/dist-packages (from matplotlib->scienceplots) (10.4.0)\n",
            "Requirement already satisfied: pyparsing>=2.3.1 in /usr/local/lib/python3.10/dist-packages (from matplotlib->scienceplots) (3.1.4)\n",
            "Requirement already satisfied: python-dateutil>=2.7 in /usr/local/lib/python3.10/dist-packages (from matplotlib->scienceplots) (2.8.2)\n",
            "Requirement already satisfied: six>=1.5 in /usr/local/lib/python3.10/dist-packages (from python-dateutil>=2.7->matplotlib->scienceplots) (1.16.0)\n",
            "Downloading SciencePlots-2.1.1-py3-none-any.whl (16 kB)\n",
            "Installing collected packages: scienceplots\n",
            "Successfully installed scienceplots-2.1.1\n"
          ]
        }
      ]
    },
    {
      "cell_type": "markdown",
      "source": [],
      "metadata": {
        "id": "3J2NbYsdZ6x9"
      }
    },
    {
      "cell_type": "code",
      "source": [
        "#Hot-encodding for output\n",
        "def one_hot(y):\n",
        "    one_hot_y = [np.zeros((10,1)) for a in y]\n",
        "    for i,e in zip(y,one_hot_y):\n",
        "      e[i] = 1\n",
        "    return one_hot_y\n",
        "#Dataset Preprocesing\n",
        "def preprocess():\n",
        "  #load dataset\n",
        "  train = pd.read_csv('/content/sample_data/mnist_train_small.csv')\n",
        "  test = pd.read_csv('/content/sample_data/mnist_test.csv')\n",
        "\n",
        "  #NB size of train, & test dataset in this case is 19999 and 9999 respectively.\n",
        "  #To make is fit to a size of batch of 10, I duplicate the first row as following 2 line of codes.\n",
        "  train = train._append(train.head(1))\n",
        "  test = test._append(test.head(1))\n",
        "\n",
        "  valid = train.sample(frac=0.2)\n",
        "  train = train.drop(valid.index)\n",
        "\n",
        "  train_X = train.iloc[:,1:]\n",
        "  train_y = train.iloc[:,0]\n",
        "\n",
        "  train_X = train_X/255\n",
        "  train_X = [np.reshape(x, (784, 1)) for x in train_X.values]\n",
        "\n",
        "  valid_X = valid.iloc[:,1:]\n",
        "  valid_X = valid_X/255\n",
        "  valid_X = [np.reshape(x, (784, 1)) for x in valid_X.values]\n",
        "\n",
        "  valid_y = valid.iloc[:,0]\n",
        "\n",
        "  test_X = test.iloc[:,1:]\n",
        "  test_X = test_X/255\n",
        "  test_X = [np.reshape(x, (784, 1)) for x in test_X.values]\n",
        "  test_y = test.iloc[:,0]\n",
        "\n",
        "  train_y = train_y.to_numpy()\n",
        "  train_y = one_hot(train_y)\n",
        "  valid_y = valid_y.to_numpy()\n",
        "  test_y = test_y.to_numpy()\n",
        "  return list(zip(train_X,train_y)),list(zip(valid_X,valid_y)),list(zip(test_X,test_y))"
      ],
      "metadata": {
        "id": "5zxmB7IJAbsE"
      },
      "execution_count": null,
      "outputs": []
    },
    {
      "cell_type": "code",
      "execution_count": null,
      "metadata": {
        "id": "AFiH7AmIhYK6",
        "colab": {
          "base_uri": "https://localhost:8080/"
        },
        "outputId": "49da6e56-d2a4-4cfc-822c-67b107354f32"
      },
      "outputs": [
        {
          "output_type": "stream",
          "name": "stdout",
          "text": [
            "No Regularization\n",
            ">>>Training progress... 100 %, accuracy = 81.425\n",
            "Regularization (L2) with lambda = 2.0\n",
            ">>>Training progress... 100 %, accuracy = 93.30000000000001"
          ]
        }
      ],
      "source": [
        "class Cost:\n",
        "  @staticmethod\n",
        "  def Entropy(a,y):\n",
        "    return np.sum(np.nan_to_num(-y*np.log(a)-(1-y)*np.log(1-a)))\n",
        "  @staticmethod\n",
        "  def delta(a,y):\n",
        "    return (a-y)\n",
        "class NN:\n",
        "    def __init__(self, sizes,cost=Cost):\n",
        "        self.layers = len(sizes)\n",
        "        self.sizes = sizes\n",
        "        self.cost = cost\n",
        "        self.weightInitializer()\n",
        "        self.copy_weights = self.weights.copy()\n",
        "        self.copy_biases = self.biases.copy()\n",
        "\n",
        "    # weights are inialized with gaussian variable of mean = 0 and sd = 1/sqrt(inputs)\n",
        "    def weightInitializer(self):\n",
        "        self.weights = [np.random.randn(y,x)   for x,y in zip(self.sizes[:-1],self.sizes[1:])]\n",
        "        self.biases = [np.random.randn(y,1) for y in self.sizes[1:]]\n",
        "    def feedforward(self,a):\n",
        "        for w,b in zip(self.weights,self.biases):\n",
        "            a = self.sigmoid(np.dot(w,a)+b)\n",
        "        return a\n",
        "    def sigmoid(self,z):\n",
        "        return 1.0/(1.0+np.exp(-z))\n",
        "    def sigmoid_prime(self,z):\n",
        "        return self.sigmoid(z)*(1-self.sigmoid(z))\n",
        "    def backprop(self,x,y):\n",
        "        nabla_b = [np.zeros(b.shape) for b in self.biases]\n",
        "        nabla_w = [np.zeros(w.shape) for w in self.weights]\n",
        "\n",
        "        activation = x\n",
        "        activations = [x]\n",
        "        zs = []\n",
        "        for b, w in zip(self.biases, self.weights):\n",
        "          z = np.dot(w, activation)+b\n",
        "          zs.append(z)\n",
        "          activation = self.sigmoid(z)\n",
        "          activations.append(activation)\n",
        "\n",
        "\n",
        "        delta = (self.cost).delta(activations[-1],y) * self.sigmoid_prime(zs[-1])\n",
        "\n",
        "        nabla_b[-1] = delta\n",
        "        nabla_w[-1] = np.dot(delta, activations[-2].transpose())\n",
        "\n",
        "        for l in range(2,self.layers):\n",
        "            z = zs[-l]\n",
        "            sp = self.sigmoid_prime(z)\n",
        "            delta = np.dot(self.weights[-l+1].transpose(),delta)*sp\n",
        "            nabla_b[-l] = delta\n",
        "            nabla_w[-l] = np.dot(delta,activations[-l-1].transpose())\n",
        "        return (nabla_b, nabla_w)\n",
        "    def update_mini_batch(self,mini_batch,eta,lmbda,n):\n",
        "      nabla_b = [np.zeros(b.shape) for b in self.biases]\n",
        "      nabla_w = [np.zeros(w.shape) for w in self.weights]\n",
        "      for x, y in mini_batch:\n",
        "        delta_nabla_b, delta_nabla_w = self.backprop(x, y)\n",
        "        nabla_b = [nb+dnb for nb, dnb in zip(nabla_b, delta_nabla_b)]\n",
        "        nabla_w = [nw+dnw for nw, dnw in zip(nabla_w, delta_nabla_w)]\n",
        "      self.weights = [(1-eta*(lmbda/n))*w-(eta/len(mini_batch))*nw\n",
        "                        for w, nw in zip(self.weights, nabla_w)]\n",
        "      self.biases = [b-(eta/len(mini_batch))*nb\n",
        "                       for b, nb in zip(self.biases, nabla_b)]\n",
        "    #Stochastic gradient Decsent with regularization (L2) - Lambda = 0.0\n",
        "    def SGD(self,training_data,epochs,mini_batch_size,eta,lmbda=0.0,test_data=None):\n",
        "      if lmbda == 0.0:\n",
        "        print(\"No Regularization\")\n",
        "      else:\n",
        "        print(\"\\nRegularization (L2) with lambda =\",lmbda)\n",
        "      accuracy = []\n",
        "      if test_data:\n",
        "        n_test = len(test_data)\n",
        "      for j in range(epochs):\n",
        "        #random.shuffle(training_data)\n",
        "        for x in range(0,len(training_data),mini_batch_size):\n",
        "          self.update_mini_batch(training_data[x:x+mini_batch_size],eta,lmbda,len(training_data))\n",
        "        accuracy.append(self.evaluate(test_data))\n",
        "        print(\"\\r>>>Training progress...\",int((j+1)*100/epochs),'%, accuracy =',100*(accuracy[-1]/n_test),end='')\n",
        "        '''\n",
        "        if test_data:\n",
        "          err = self.evaluate(test_data)\n",
        "          print(\"Epoch {} : {} / {} ({}%)\".format(j,err,n_test,100*(err/n_test)))\n",
        "        else:\n",
        "          print(\"Epoch {} complete\".format(j))\n",
        "        '''\n",
        "      return accuracy\n",
        "    def evaluate(self,test_data):\n",
        "      test_results = [(np.argmax(self.feedforward(x)),y) for (x,y) in test_data]\n",
        "      return sum(int(x==y) for (x,y) in test_results)\n",
        "\n",
        "\n",
        "net = NN([784,30,10])\n",
        "training_set, valid_set, test_set = preprocess()\n",
        "accuracy_nonReg = net.SGD(training_set, 30, 10, 3.0, lmbda=0.0, test_data=valid_set)\n",
        "#net.SGD(training_set, 30, 10, 3.0, test_data=valid_set)\n",
        "net.weights = net.copy_weights\n",
        "net.biases  = net.copy_biases\n",
        "accuracy_Reg = net.SGD(training_set, 30, 10, 3.0, lmbda=2.0, test_data=valid_set)\n",
        "\n",
        "\n"
      ]
    },
    {
      "cell_type": "code",
      "source": [
        "X = np.arange(0,30)\n",
        "plt.plot(X, accuracy_Reg, color='r', label='Regularized')\n",
        "plt.plot(X, accuracy_nonReg, color='g', label='Non-Regularized')\n",
        "\n",
        "# Naming the x-axis, y-axis and the whole graph\n",
        "plt.xlabel(\"Epochs\")\n",
        "plt.ylabel(\"Accuracy\")\n",
        "plt.title(\"Regularization (L2) accuracy \")\n",
        "\n",
        "# Adding legend, which helps us recognize the curve according to it's color\n",
        "plt.legend()\n",
        "\n",
        "# To load the display window\n",
        "plt.show()"
      ],
      "metadata": {
        "colab": {
          "base_uri": "https://localhost:8080/",
          "height": 472
        },
        "id": "Jt8RdPHCKOJ_",
        "outputId": "47bdb43a-5210-4a15-aebf-999e95e4eb0e"
      },
      "execution_count": null,
      "outputs": [
        {
          "output_type": "display_data",
          "data": {
            "text/plain": [
              "<Figure size 640x480 with 1 Axes>"
            ],
            "image/png": "[encoded data removed]"
          },
          "metadata": {}
        }
      ]
    },
    {
      "cell_type": "markdown",
      "source": [
        "##Analysis of Regularazation effect\n",
        "Intuitively, the effect of regularization is to make it so the network prefers to learn small weights, all other things being equal. Large weights will only be allowed if they considerably improve the first part of the cost function. In another word, regularization can be viewed as a way of compromising between finding small weights and minimizing the original cost function.\n",
        "\n",
        "As showns in above, the classification accuracy on the validation data is up, from 81.42 percent when running unregularized, to 93.3 percent. From this we can understand that regularization act as a way to reduce overfitting and to increase classification accuracies.\n",
        "\n",
        "Selecting the value for the L2 regularization parameter requires balancing between preventing overfitting and maintaining model performance. The optimal value often depends on the problem, dataset, and model type."
      ],
      "metadata": {
        "id": "0yYfgt74tjS9"
      }
    }
  ]
}